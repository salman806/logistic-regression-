{
 "cells": [
  {
   "cell_type": "code",
   "execution_count": 1,
   "metadata": {},
   "outputs": [],
   "source": [
    "import numpy as np # working in domain of linear algebra\n",
    "import pandas as pd #for data manipulation \n",
    "import seaborn as sns #visualizations \n",
    "from matplotlib import pyplot as plt #  a plotting library"
   ]
  },
  {
   "cell_type": "code",
   "execution_count": 2,
   "metadata": {},
   "outputs": [],
   "source": [
    "#read the data\n",
    "df = pd.read_csv('C://Users//DELL//Desktop//New folder//UOKDataSet_3.csv')"
   ]
  },
  {
   "cell_type": "code",
   "execution_count": 3,
   "metadata": {},
   "outputs": [
    {
     "data": {
      "text/html": [
       "<div>\n",
       "<style scoped>\n",
       "    .dataframe tbody tr th:only-of-type {\n",
       "        vertical-align: middle;\n",
       "    }\n",
       "\n",
       "    .dataframe tbody tr th {\n",
       "        vertical-align: top;\n",
       "    }\n",
       "\n",
       "    .dataframe thead th {\n",
       "        text-align: right;\n",
       "    }\n",
       "</style>\n",
       "<table border=\"1\" class=\"dataframe\">\n",
       "  <thead>\n",
       "    <tr style=\"text-align: right;\">\n",
       "      <th></th>\n",
       "      <th>Unnamed: 0</th>\n",
       "      <th>Unnamed: 0.1</th>\n",
       "      <th>row</th>\n",
       "      <th>stu_num</th>\n",
       "      <th>riazi_1</th>\n",
       "      <th>fizik_1</th>\n",
       "      <th>mabani_kamputer</th>\n",
       "      <th>riazi_2</th>\n",
       "      <th>fizik_2</th>\n",
       "      <th>ri_gosaste</th>\n",
       "      <th>...</th>\n",
       "      <th>sex</th>\n",
       "      <th>memari_com</th>\n",
       "      <th>mabani_e_didit</th>\n",
       "      <th>o_va_m_modiriat</th>\n",
       "      <th>os</th>\n",
       "      <th>tarahi_alg</th>\n",
       "      <th>nazariye</th>\n",
       "      <th>os_tarahi_DB</th>\n",
       "      <th>eghtesad_mohandesi</th>\n",
       "      <th>moadel</th>\n",
       "    </tr>\n",
       "  </thead>\n",
       "  <tbody>\n",
       "    <tr>\n",
       "      <td>0</td>\n",
       "      <td>0</td>\n",
       "      <td>0</td>\n",
       "      <td>1</td>\n",
       "      <td>8513331010</td>\n",
       "      <td>13.25</td>\n",
       "      <td>8.5</td>\n",
       "      <td>20.0</td>\n",
       "      <td>11.75</td>\n",
       "      <td>10.00</td>\n",
       "      <td>12.50</td>\n",
       "      <td>...</td>\n",
       "      <td>m</td>\n",
       "      <td>15.75</td>\n",
       "      <td>14.0</td>\n",
       "      <td>16.5</td>\n",
       "      <td>12.0</td>\n",
       "      <td>16.2</td>\n",
       "      <td>10.75</td>\n",
       "      <td>18.0</td>\n",
       "      <td>17.8</td>\n",
       "      <td>14.42</td>\n",
       "    </tr>\n",
       "    <tr>\n",
       "      <td>1</td>\n",
       "      <td>1</td>\n",
       "      <td>1</td>\n",
       "      <td>2</td>\n",
       "      <td>8513331030</td>\n",
       "      <td>10.00</td>\n",
       "      <td>11.0</td>\n",
       "      <td>10.0</td>\n",
       "      <td>14.00</td>\n",
       "      <td>11.50</td>\n",
       "      <td>10.25</td>\n",
       "      <td>...</td>\n",
       "      <td>f</td>\n",
       "      <td>16.5</td>\n",
       "      <td>14.0</td>\n",
       "      <td>16.0</td>\n",
       "      <td>14.0</td>\n",
       "      <td>15.5</td>\n",
       "      <td>11.50</td>\n",
       "      <td>15.0</td>\n",
       "      <td>14.6</td>\n",
       "      <td>14.27</td>\n",
       "    </tr>\n",
       "    <tr>\n",
       "      <td>2</td>\n",
       "      <td>2</td>\n",
       "      <td>2</td>\n",
       "      <td>3</td>\n",
       "      <td>8513331040</td>\n",
       "      <td>14.25</td>\n",
       "      <td>12.5</td>\n",
       "      <td>15.6</td>\n",
       "      <td>15.00</td>\n",
       "      <td>16.50</td>\n",
       "      <td>14.50</td>\n",
       "      <td>...</td>\n",
       "      <td>f</td>\n",
       "      <td>17.25</td>\n",
       "      <td>18.5</td>\n",
       "      <td>16.5</td>\n",
       "      <td>16.5</td>\n",
       "      <td>18.2</td>\n",
       "      <td>19.00</td>\n",
       "      <td>14.0</td>\n",
       "      <td>16.1</td>\n",
       "      <td>16.49</td>\n",
       "    </tr>\n",
       "    <tr>\n",
       "      <td>3</td>\n",
       "      <td>3</td>\n",
       "      <td>3</td>\n",
       "      <td>4</td>\n",
       "      <td>8513331050</td>\n",
       "      <td>13.00</td>\n",
       "      <td>8.5</td>\n",
       "      <td>9.5</td>\n",
       "      <td>14.50</td>\n",
       "      <td>14.50</td>\n",
       "      <td>15.00</td>\n",
       "      <td>...</td>\n",
       "      <td>f</td>\n",
       "      <td>15.25</td>\n",
       "      <td>14.0</td>\n",
       "      <td>13.5</td>\n",
       "      <td>12.0</td>\n",
       "      <td>14.0</td>\n",
       "      <td>12.50</td>\n",
       "      <td>12.5</td>\n",
       "      <td>13.2</td>\n",
       "      <td>13.94</td>\n",
       "    </tr>\n",
       "    <tr>\n",
       "      <td>4</td>\n",
       "      <td>4</td>\n",
       "      <td>4</td>\n",
       "      <td>5</td>\n",
       "      <td>8513331060</td>\n",
       "      <td>11.00</td>\n",
       "      <td>0.0</td>\n",
       "      <td>9.9</td>\n",
       "      <td>10.00</td>\n",
       "      <td>9.75</td>\n",
       "      <td>8.00</td>\n",
       "      <td>...</td>\n",
       "      <td>m</td>\n",
       "      <td>13</td>\n",
       "      <td>12.0</td>\n",
       "      <td>15.5</td>\n",
       "      <td>10.5</td>\n",
       "      <td>12.0</td>\n",
       "      <td>10.00</td>\n",
       "      <td>16.5</td>\n",
       "      <td>10.0</td>\n",
       "      <td>12.80</td>\n",
       "    </tr>\n",
       "  </tbody>\n",
       "</table>\n",
       "<p>5 rows × 26 columns</p>\n",
       "</div>"
      ],
      "text/plain": [
       "   Unnamed: 0  Unnamed: 0.1  row     stu_num  riazi_1  fizik_1  \\\n",
       "0           0             0    1  8513331010    13.25      8.5   \n",
       "1           1             1    2  8513331030    10.00     11.0   \n",
       "2           2             2    3  8513331040    14.25     12.5   \n",
       "3           3             3    4  8513331050    13.00      8.5   \n",
       "4           4             4    5  8513331060    11.00      0.0   \n",
       "\n",
       "   mabani_kamputer  riazi_2  fizik_2  ri_gosaste  ...  sex  memari_com  \\\n",
       "0             20.0    11.75    10.00       12.50  ...    m       15.75   \n",
       "1             10.0    14.00    11.50       10.25  ...    f        16.5   \n",
       "2             15.6    15.00    16.50       14.50  ...    f       17.25   \n",
       "3              9.5    14.50    14.50       15.00  ...    f       15.25   \n",
       "4              9.9    10.00     9.75        8.00  ...    m          13   \n",
       "\n",
       "   mabani_e_didit  o_va_m_modiriat    os  tarahi_alg nazariye os_tarahi_DB  \\\n",
       "0            14.0             16.5  12.0        16.2    10.75         18.0   \n",
       "1            14.0             16.0  14.0        15.5    11.50         15.0   \n",
       "2            18.5             16.5  16.5        18.2    19.00         14.0   \n",
       "3            14.0             13.5  12.0        14.0    12.50         12.5   \n",
       "4            12.0             15.5  10.5        12.0    10.00         16.5   \n",
       "\n",
       "   eghtesad_mohandesi  moadel  \n",
       "0                17.8   14.42  \n",
       "1                14.6   14.27  \n",
       "2                16.1   16.49  \n",
       "3                13.2   13.94  \n",
       "4                10.0   12.80  \n",
       "\n",
       "[5 rows x 26 columns]"
      ]
     },
     "execution_count": 3,
     "metadata": {},
     "output_type": "execute_result"
    }
   ],
   "source": [
    "#show first 5 rowes\n",
    "df.head()"
   ]
  },
  {
   "cell_type": "code",
   "execution_count": 4,
   "metadata": {},
   "outputs": [
    {
     "data": {
      "text/plain": [
       "Index(['Unnamed: 0', 'Unnamed: 0.1', 'row', 'stu_num', 'riazi_1', 'fizik_1',\n",
       "       'mabani_kamputer', 'riazi_2', 'fizik_2', 'ri_gosaste',\n",
       "       'barname_pishrafte', 'moadelat_def', 'amar_va_eh', 'sakhteman_dadeh',\n",
       "       'medar_mantaghi', 'mabani_fanavari', 'sex', 'memari_com',\n",
       "       'mabani_e_didit', 'o_va_m_modiriat', 'os', 'tarahi_alg', 'nazariye',\n",
       "       'os_tarahi_DB', 'eghtesad_mohandesi', 'moadel'],\n",
       "      dtype='object')"
      ]
     },
     "execution_count": 4,
     "metadata": {},
     "output_type": "execute_result"
    }
   ],
   "source": [
    "#show all columns\n",
    "df.columns"
   ]
  },
  {
   "cell_type": "code",
   "execution_count": 5,
   "metadata": {},
   "outputs": [
    {
     "data": {
      "text/html": [
       "<div>\n",
       "<style scoped>\n",
       "    .dataframe tbody tr th:only-of-type {\n",
       "        vertical-align: middle;\n",
       "    }\n",
       "\n",
       "    .dataframe tbody tr th {\n",
       "        vertical-align: top;\n",
       "    }\n",
       "\n",
       "    .dataframe thead th {\n",
       "        text-align: right;\n",
       "    }\n",
       "</style>\n",
       "<table border=\"1\" class=\"dataframe\">\n",
       "  <thead>\n",
       "    <tr style=\"text-align: right;\">\n",
       "      <th></th>\n",
       "      <th>Unnamed: 0</th>\n",
       "      <th>Unnamed: 0.1</th>\n",
       "      <th>row</th>\n",
       "      <th>stu_num</th>\n",
       "      <th>riazi_1</th>\n",
       "      <th>fizik_1</th>\n",
       "      <th>mabani_kamputer</th>\n",
       "      <th>riazi_2</th>\n",
       "      <th>fizik_2</th>\n",
       "      <th>ri_gosaste</th>\n",
       "      <th>...</th>\n",
       "      <th>medar_mantaghi</th>\n",
       "      <th>mabani_fanavari</th>\n",
       "      <th>mabani_e_didit</th>\n",
       "      <th>o_va_m_modiriat</th>\n",
       "      <th>os</th>\n",
       "      <th>tarahi_alg</th>\n",
       "      <th>nazariye</th>\n",
       "      <th>os_tarahi_DB</th>\n",
       "      <th>eghtesad_mohandesi</th>\n",
       "      <th>moadel</th>\n",
       "    </tr>\n",
       "  </thead>\n",
       "  <tbody>\n",
       "    <tr>\n",
       "      <td>count</td>\n",
       "      <td>237.000000</td>\n",
       "      <td>237.000000</td>\n",
       "      <td>237.000000</td>\n",
       "      <td>2.370000e+02</td>\n",
       "      <td>237.000000</td>\n",
       "      <td>237.000000</td>\n",
       "      <td>237.000000</td>\n",
       "      <td>237.000000</td>\n",
       "      <td>237.000000</td>\n",
       "      <td>237.000000</td>\n",
       "      <td>...</td>\n",
       "      <td>237.000000</td>\n",
       "      <td>237.000000</td>\n",
       "      <td>237.000000</td>\n",
       "      <td>237.000000</td>\n",
       "      <td>237.000000</td>\n",
       "      <td>237.000000</td>\n",
       "      <td>237.000000</td>\n",
       "      <td>237.000000</td>\n",
       "      <td>237.000000</td>\n",
       "      <td>237.000000</td>\n",
       "    </tr>\n",
       "    <tr>\n",
       "      <td>mean</td>\n",
       "      <td>118.000000</td>\n",
       "      <td>118.000000</td>\n",
       "      <td>119.000000</td>\n",
       "      <td>8.795085e+09</td>\n",
       "      <td>12.376371</td>\n",
       "      <td>11.997679</td>\n",
       "      <td>12.551519</td>\n",
       "      <td>13.222068</td>\n",
       "      <td>11.863080</td>\n",
       "      <td>13.797257</td>\n",
       "      <td>...</td>\n",
       "      <td>14.507911</td>\n",
       "      <td>16.052236</td>\n",
       "      <td>13.585485</td>\n",
       "      <td>16.242405</td>\n",
       "      <td>14.144684</td>\n",
       "      <td>12.556667</td>\n",
       "      <td>14.207806</td>\n",
       "      <td>14.331519</td>\n",
       "      <td>15.094726</td>\n",
       "      <td>14.356709</td>\n",
       "    </tr>\n",
       "    <tr>\n",
       "      <td>std</td>\n",
       "      <td>68.560193</td>\n",
       "      <td>68.560193</td>\n",
       "      <td>68.560193</td>\n",
       "      <td>1.858670e+08</td>\n",
       "      <td>2.769708</td>\n",
       "      <td>3.383866</td>\n",
       "      <td>3.548870</td>\n",
       "      <td>3.351101</td>\n",
       "      <td>3.228127</td>\n",
       "      <td>3.008442</td>\n",
       "      <td>...</td>\n",
       "      <td>3.342294</td>\n",
       "      <td>2.385298</td>\n",
       "      <td>2.859693</td>\n",
       "      <td>2.297683</td>\n",
       "      <td>2.840936</td>\n",
       "      <td>2.790133</td>\n",
       "      <td>2.760441</td>\n",
       "      <td>2.939174</td>\n",
       "      <td>2.827982</td>\n",
       "      <td>1.347917</td>\n",
       "    </tr>\n",
       "    <tr>\n",
       "      <td>min</td>\n",
       "      <td>0.000000</td>\n",
       "      <td>0.000000</td>\n",
       "      <td>1.000000</td>\n",
       "      <td>8.513331e+09</td>\n",
       "      <td>5.500000</td>\n",
       "      <td>0.000000</td>\n",
       "      <td>0.000000</td>\n",
       "      <td>0.480000</td>\n",
       "      <td>6.000000</td>\n",
       "      <td>6.000000</td>\n",
       "      <td>...</td>\n",
       "      <td>1.000000</td>\n",
       "      <td>9.000000</td>\n",
       "      <td>9.500000</td>\n",
       "      <td>9.500000</td>\n",
       "      <td>8.000000</td>\n",
       "      <td>0.000000</td>\n",
       "      <td>9.750000</td>\n",
       "      <td>7.000000</td>\n",
       "      <td>9.000000</td>\n",
       "      <td>11.320000</td>\n",
       "    </tr>\n",
       "    <tr>\n",
       "      <td>25%</td>\n",
       "      <td>59.000000</td>\n",
       "      <td>59.000000</td>\n",
       "      <td>60.000000</td>\n",
       "      <td>8.613331e+09</td>\n",
       "      <td>10.250000</td>\n",
       "      <td>10.000000</td>\n",
       "      <td>9.750000</td>\n",
       "      <td>10.000000</td>\n",
       "      <td>9.500000</td>\n",
       "      <td>11.500000</td>\n",
       "      <td>...</td>\n",
       "      <td>12.500000</td>\n",
       "      <td>14.750000</td>\n",
       "      <td>11.000000</td>\n",
       "      <td>15.000000</td>\n",
       "      <td>12.000000</td>\n",
       "      <td>10.000000</td>\n",
       "      <td>12.000000</td>\n",
       "      <td>12.250000</td>\n",
       "      <td>13.200000</td>\n",
       "      <td>13.350000</td>\n",
       "    </tr>\n",
       "    <tr>\n",
       "      <td>50%</td>\n",
       "      <td>118.000000</td>\n",
       "      <td>118.000000</td>\n",
       "      <td>119.000000</td>\n",
       "      <td>8.813331e+09</td>\n",
       "      <td>12.000000</td>\n",
       "      <td>12.000000</td>\n",
       "      <td>11.750000</td>\n",
       "      <td>13.000000</td>\n",
       "      <td>11.000000</td>\n",
       "      <td>13.500000</td>\n",
       "      <td>...</td>\n",
       "      <td>14.500000</td>\n",
       "      <td>16.500000</td>\n",
       "      <td>13.000000</td>\n",
       "      <td>16.000000</td>\n",
       "      <td>13.500000</td>\n",
       "      <td>12.000000</td>\n",
       "      <td>14.000000</td>\n",
       "      <td>14.500000</td>\n",
       "      <td>15.000000</td>\n",
       "      <td>14.320000</td>\n",
       "    </tr>\n",
       "    <tr>\n",
       "      <td>75%</td>\n",
       "      <td>177.000000</td>\n",
       "      <td>177.000000</td>\n",
       "      <td>178.000000</td>\n",
       "      <td>9.017050e+09</td>\n",
       "      <td>14.000000</td>\n",
       "      <td>14.250000</td>\n",
       "      <td>14.750000</td>\n",
       "      <td>16.000000</td>\n",
       "      <td>14.000000</td>\n",
       "      <td>15.710000</td>\n",
       "      <td>...</td>\n",
       "      <td>17.000000</td>\n",
       "      <td>17.500000</td>\n",
       "      <td>16.000000</td>\n",
       "      <td>17.750000</td>\n",
       "      <td>16.500000</td>\n",
       "      <td>14.330000</td>\n",
       "      <td>16.000000</td>\n",
       "      <td>16.500000</td>\n",
       "      <td>17.500000</td>\n",
       "      <td>15.290000</td>\n",
       "    </tr>\n",
       "    <tr>\n",
       "      <td>max</td>\n",
       "      <td>236.000000</td>\n",
       "      <td>236.000000</td>\n",
       "      <td>237.000000</td>\n",
       "      <td>9.017050e+09</td>\n",
       "      <td>20.000000</td>\n",
       "      <td>20.000000</td>\n",
       "      <td>20.000000</td>\n",
       "      <td>20.000000</td>\n",
       "      <td>19.750000</td>\n",
       "      <td>20.000000</td>\n",
       "      <td>...</td>\n",
       "      <td>20.000000</td>\n",
       "      <td>20.000000</td>\n",
       "      <td>20.000000</td>\n",
       "      <td>20.000000</td>\n",
       "      <td>20.000000</td>\n",
       "      <td>20.000000</td>\n",
       "      <td>20.000000</td>\n",
       "      <td>20.000000</td>\n",
       "      <td>20.000000</td>\n",
       "      <td>18.280000</td>\n",
       "    </tr>\n",
       "  </tbody>\n",
       "</table>\n",
       "<p>8 rows × 24 columns</p>\n",
       "</div>"
      ],
      "text/plain": [
       "       Unnamed: 0  Unnamed: 0.1         row       stu_num     riazi_1  \\\n",
       "count  237.000000    237.000000  237.000000  2.370000e+02  237.000000   \n",
       "mean   118.000000    118.000000  119.000000  8.795085e+09   12.376371   \n",
       "std     68.560193     68.560193   68.560193  1.858670e+08    2.769708   \n",
       "min      0.000000      0.000000    1.000000  8.513331e+09    5.500000   \n",
       "25%     59.000000     59.000000   60.000000  8.613331e+09   10.250000   \n",
       "50%    118.000000    118.000000  119.000000  8.813331e+09   12.000000   \n",
       "75%    177.000000    177.000000  178.000000  9.017050e+09   14.000000   \n",
       "max    236.000000    236.000000  237.000000  9.017050e+09   20.000000   \n",
       "\n",
       "          fizik_1  mabani_kamputer     riazi_2     fizik_2  ri_gosaste  ...  \\\n",
       "count  237.000000       237.000000  237.000000  237.000000  237.000000  ...   \n",
       "mean    11.997679        12.551519   13.222068   11.863080   13.797257  ...   \n",
       "std      3.383866         3.548870    3.351101    3.228127    3.008442  ...   \n",
       "min      0.000000         0.000000    0.480000    6.000000    6.000000  ...   \n",
       "25%     10.000000         9.750000   10.000000    9.500000   11.500000  ...   \n",
       "50%     12.000000        11.750000   13.000000   11.000000   13.500000  ...   \n",
       "75%     14.250000        14.750000   16.000000   14.000000   15.710000  ...   \n",
       "max     20.000000        20.000000   20.000000   19.750000   20.000000  ...   \n",
       "\n",
       "       medar_mantaghi  mabani_fanavari  mabani_e_didit  o_va_m_modiriat  \\\n",
       "count      237.000000       237.000000      237.000000       237.000000   \n",
       "mean        14.507911        16.052236       13.585485        16.242405   \n",
       "std          3.342294         2.385298        2.859693         2.297683   \n",
       "min          1.000000         9.000000        9.500000         9.500000   \n",
       "25%         12.500000        14.750000       11.000000        15.000000   \n",
       "50%         14.500000        16.500000       13.000000        16.000000   \n",
       "75%         17.000000        17.500000       16.000000        17.750000   \n",
       "max         20.000000        20.000000       20.000000        20.000000   \n",
       "\n",
       "               os  tarahi_alg    nazariye  os_tarahi_DB  eghtesad_mohandesi  \\\n",
       "count  237.000000  237.000000  237.000000    237.000000          237.000000   \n",
       "mean    14.144684   12.556667   14.207806     14.331519           15.094726   \n",
       "std      2.840936    2.790133    2.760441      2.939174            2.827982   \n",
       "min      8.000000    0.000000    9.750000      7.000000            9.000000   \n",
       "25%     12.000000   10.000000   12.000000     12.250000           13.200000   \n",
       "50%     13.500000   12.000000   14.000000     14.500000           15.000000   \n",
       "75%     16.500000   14.330000   16.000000     16.500000           17.500000   \n",
       "max     20.000000   20.000000   20.000000     20.000000           20.000000   \n",
       "\n",
       "           moadel  \n",
       "count  237.000000  \n",
       "mean    14.356709  \n",
       "std      1.347917  \n",
       "min     11.320000  \n",
       "25%     13.350000  \n",
       "50%     14.320000  \n",
       "75%     15.290000  \n",
       "max     18.280000  \n",
       "\n",
       "[8 rows x 24 columns]"
      ]
     },
     "execution_count": 5,
     "metadata": {},
     "output_type": "execute_result"
    }
   ],
   "source": [
    "#computes a summary of statistics pertaining to the DataFrame columns\n",
    "df.describe()"
   ]
  },
  {
   "cell_type": "code",
   "execution_count": 6,
   "metadata": {},
   "outputs": [
    {
     "name": "stdout",
     "output_type": "stream",
     "text": [
      "<class 'pandas.core.frame.DataFrame'>\n",
      "RangeIndex: 237 entries, 0 to 236\n",
      "Data columns (total 26 columns):\n",
      "Unnamed: 0            237 non-null int64\n",
      "Unnamed: 0.1          237 non-null int64\n",
      "row                   237 non-null int64\n",
      "stu_num               237 non-null int64\n",
      "riazi_1               237 non-null float64\n",
      "fizik_1               237 non-null float64\n",
      "mabani_kamputer       237 non-null float64\n",
      "riazi_2               237 non-null float64\n",
      "fizik_2               237 non-null float64\n",
      "ri_gosaste            237 non-null float64\n",
      "barname_pishrafte     237 non-null float64\n",
      "moadelat_def          237 non-null float64\n",
      "amar_va_eh            237 non-null float64\n",
      "sakhteman_dadeh       237 non-null float64\n",
      "medar_mantaghi        237 non-null float64\n",
      "mabani_fanavari       237 non-null float64\n",
      "sex                   237 non-null object\n",
      "memari_com            235 non-null object\n",
      "mabani_e_didit        237 non-null float64\n",
      "o_va_m_modiriat       237 non-null float64\n",
      "os                    237 non-null float64\n",
      "tarahi_alg            237 non-null float64\n",
      "nazariye              237 non-null float64\n",
      "os_tarahi_DB          237 non-null float64\n",
      "eghtesad_mohandesi    237 non-null float64\n",
      "moadel                237 non-null float64\n",
      "dtypes: float64(20), int64(4), object(2)\n",
      "memory usage: 48.3+ KB\n"
     ]
    }
   ],
   "source": [
    "#prints information about the DataFrame\n",
    "df.info()"
   ]
  },
  {
   "cell_type": "code",
   "execution_count": 7,
   "metadata": {},
   "outputs": [
    {
     "data": {
      "text/plain": [
       "Unnamed: 0            0\n",
       "Unnamed: 0.1          0\n",
       "row                   0\n",
       "stu_num               0\n",
       "riazi_1               0\n",
       "fizik_1               0\n",
       "mabani_kamputer       0\n",
       "riazi_2               0\n",
       "fizik_2               0\n",
       "ri_gosaste            0\n",
       "barname_pishrafte     0\n",
       "moadelat_def          0\n",
       "amar_va_eh            0\n",
       "sakhteman_dadeh       0\n",
       "medar_mantaghi        0\n",
       "mabani_fanavari       0\n",
       "sex                   0\n",
       "memari_com            2\n",
       "mabani_e_didit        0\n",
       "o_va_m_modiriat       0\n",
       "os                    0\n",
       "tarahi_alg            0\n",
       "nazariye              0\n",
       "os_tarahi_DB          0\n",
       "eghtesad_mohandesi    0\n",
       "moadel                0\n",
       "dtype: int64"
      ]
     },
     "execution_count": 7,
     "metadata": {},
     "output_type": "execute_result"
    }
   ],
   "source": [
    "#calculate which column contains null \n",
    "df.isnull().sum()"
   ]
  },
  {
   "cell_type": "code",
   "execution_count": 8,
   "metadata": {},
   "outputs": [],
   "source": [
    "#fill a column contain the null value by  the mean\n",
    "df_mean = df['memari_com'].mean\n",
    "df['memari_com'].fillna( value= df_mean , inplace=True)\n",
    "\n"
   ]
  },
  {
   "cell_type": "code",
   "execution_count": 9,
   "metadata": {},
   "outputs": [
    {
     "data": {
      "text/plain": [
       "Unnamed: 0            0\n",
       "Unnamed: 0.1          0\n",
       "row                   0\n",
       "stu_num               0\n",
       "riazi_1               0\n",
       "fizik_1               0\n",
       "mabani_kamputer       0\n",
       "riazi_2               0\n",
       "fizik_2               0\n",
       "ri_gosaste            0\n",
       "barname_pishrafte     0\n",
       "moadelat_def          0\n",
       "amar_va_eh            0\n",
       "sakhteman_dadeh       0\n",
       "medar_mantaghi        0\n",
       "mabani_fanavari       0\n",
       "sex                   0\n",
       "memari_com            0\n",
       "mabani_e_didit        0\n",
       "o_va_m_modiriat       0\n",
       "os                    0\n",
       "tarahi_alg            0\n",
       "nazariye              0\n",
       "os_tarahi_DB          0\n",
       "eghtesad_mohandesi    0\n",
       "moadel                0\n",
       "dtype: int64"
      ]
     },
     "execution_count": 9,
     "metadata": {},
     "output_type": "execute_result"
    }
   ],
   "source": [
    "df.isnull().sum()"
   ]
  },
  {
   "cell_type": "code",
   "execution_count": 10,
   "metadata": {},
   "outputs": [],
   "source": [
    "#drop the columns that we do not needs \n",
    "df=df.drop(['Unnamed: 0','Unnamed: 0.1','row','stu_num','sex'],axis=1)"
   ]
  },
  {
   "cell_type": "code",
   "execution_count": 11,
   "metadata": {},
   "outputs": [
    {
     "data": {
      "text/html": [
       "<div>\n",
       "<style scoped>\n",
       "    .dataframe tbody tr th:only-of-type {\n",
       "        vertical-align: middle;\n",
       "    }\n",
       "\n",
       "    .dataframe tbody tr th {\n",
       "        vertical-align: top;\n",
       "    }\n",
       "\n",
       "    .dataframe thead th {\n",
       "        text-align: right;\n",
       "    }\n",
       "</style>\n",
       "<table border=\"1\" class=\"dataframe\">\n",
       "  <thead>\n",
       "    <tr style=\"text-align: right;\">\n",
       "      <th></th>\n",
       "      <th>riazi_1</th>\n",
       "      <th>fizik_1</th>\n",
       "      <th>mabani_kamputer</th>\n",
       "      <th>riazi_2</th>\n",
       "      <th>fizik_2</th>\n",
       "      <th>ri_gosaste</th>\n",
       "      <th>barname_pishrafte</th>\n",
       "      <th>moadelat_def</th>\n",
       "      <th>amar_va_eh</th>\n",
       "      <th>sakhteman_dadeh</th>\n",
       "      <th>...</th>\n",
       "      <th>mabani_fanavari</th>\n",
       "      <th>memari_com</th>\n",
       "      <th>mabani_e_didit</th>\n",
       "      <th>o_va_m_modiriat</th>\n",
       "      <th>os</th>\n",
       "      <th>tarahi_alg</th>\n",
       "      <th>nazariye</th>\n",
       "      <th>os_tarahi_DB</th>\n",
       "      <th>eghtesad_mohandesi</th>\n",
       "      <th>moadel</th>\n",
       "    </tr>\n",
       "  </thead>\n",
       "  <tbody>\n",
       "    <tr>\n",
       "      <td>0</td>\n",
       "      <td>13.25</td>\n",
       "      <td>8.5</td>\n",
       "      <td>20.0</td>\n",
       "      <td>11.75</td>\n",
       "      <td>10.00</td>\n",
       "      <td>12.50</td>\n",
       "      <td>20.0</td>\n",
       "      <td>10.0</td>\n",
       "      <td>11.75</td>\n",
       "      <td>18.5</td>\n",
       "      <td>...</td>\n",
       "      <td>14.75</td>\n",
       "      <td>15.75</td>\n",
       "      <td>14.0</td>\n",
       "      <td>16.5</td>\n",
       "      <td>12.0</td>\n",
       "      <td>16.2</td>\n",
       "      <td>10.75</td>\n",
       "      <td>18.0</td>\n",
       "      <td>17.8</td>\n",
       "      <td>14.42</td>\n",
       "    </tr>\n",
       "    <tr>\n",
       "      <td>1</td>\n",
       "      <td>10.00</td>\n",
       "      <td>11.0</td>\n",
       "      <td>10.0</td>\n",
       "      <td>14.00</td>\n",
       "      <td>11.50</td>\n",
       "      <td>10.25</td>\n",
       "      <td>5.5</td>\n",
       "      <td>13.0</td>\n",
       "      <td>11.50</td>\n",
       "      <td>10.0</td>\n",
       "      <td>...</td>\n",
       "      <td>18.80</td>\n",
       "      <td>16.5</td>\n",
       "      <td>14.0</td>\n",
       "      <td>16.0</td>\n",
       "      <td>14.0</td>\n",
       "      <td>15.5</td>\n",
       "      <td>11.50</td>\n",
       "      <td>15.0</td>\n",
       "      <td>14.6</td>\n",
       "      <td>14.27</td>\n",
       "    </tr>\n",
       "    <tr>\n",
       "      <td>2</td>\n",
       "      <td>14.25</td>\n",
       "      <td>12.5</td>\n",
       "      <td>15.6</td>\n",
       "      <td>15.00</td>\n",
       "      <td>16.50</td>\n",
       "      <td>14.50</td>\n",
       "      <td>11.0</td>\n",
       "      <td>18.5</td>\n",
       "      <td>16.75</td>\n",
       "      <td>14.0</td>\n",
       "      <td>...</td>\n",
       "      <td>18.10</td>\n",
       "      <td>17.25</td>\n",
       "      <td>18.5</td>\n",
       "      <td>16.5</td>\n",
       "      <td>16.5</td>\n",
       "      <td>18.2</td>\n",
       "      <td>19.00</td>\n",
       "      <td>14.0</td>\n",
       "      <td>16.1</td>\n",
       "      <td>16.49</td>\n",
       "    </tr>\n",
       "    <tr>\n",
       "      <td>3</td>\n",
       "      <td>13.00</td>\n",
       "      <td>8.5</td>\n",
       "      <td>9.5</td>\n",
       "      <td>14.50</td>\n",
       "      <td>14.50</td>\n",
       "      <td>15.00</td>\n",
       "      <td>10.0</td>\n",
       "      <td>14.0</td>\n",
       "      <td>15.50</td>\n",
       "      <td>11.5</td>\n",
       "      <td>...</td>\n",
       "      <td>13.20</td>\n",
       "      <td>15.25</td>\n",
       "      <td>14.0</td>\n",
       "      <td>13.5</td>\n",
       "      <td>12.0</td>\n",
       "      <td>14.0</td>\n",
       "      <td>12.50</td>\n",
       "      <td>12.5</td>\n",
       "      <td>13.2</td>\n",
       "      <td>13.94</td>\n",
       "    </tr>\n",
       "    <tr>\n",
       "      <td>4</td>\n",
       "      <td>11.00</td>\n",
       "      <td>0.0</td>\n",
       "      <td>9.9</td>\n",
       "      <td>10.00</td>\n",
       "      <td>9.75</td>\n",
       "      <td>8.00</td>\n",
       "      <td>15.2</td>\n",
       "      <td>11.5</td>\n",
       "      <td>8.00</td>\n",
       "      <td>13.0</td>\n",
       "      <td>...</td>\n",
       "      <td>18.85</td>\n",
       "      <td>13</td>\n",
       "      <td>12.0</td>\n",
       "      <td>15.5</td>\n",
       "      <td>10.5</td>\n",
       "      <td>12.0</td>\n",
       "      <td>10.00</td>\n",
       "      <td>16.5</td>\n",
       "      <td>10.0</td>\n",
       "      <td>12.80</td>\n",
       "    </tr>\n",
       "  </tbody>\n",
       "</table>\n",
       "<p>5 rows × 21 columns</p>\n",
       "</div>"
      ],
      "text/plain": [
       "   riazi_1  fizik_1  mabani_kamputer  riazi_2  fizik_2  ri_gosaste  \\\n",
       "0    13.25      8.5             20.0    11.75    10.00       12.50   \n",
       "1    10.00     11.0             10.0    14.00    11.50       10.25   \n",
       "2    14.25     12.5             15.6    15.00    16.50       14.50   \n",
       "3    13.00      8.5              9.5    14.50    14.50       15.00   \n",
       "4    11.00      0.0              9.9    10.00     9.75        8.00   \n",
       "\n",
       "   barname_pishrafte  moadelat_def  amar_va_eh  sakhteman_dadeh  ...  \\\n",
       "0               20.0          10.0       11.75             18.5  ...   \n",
       "1                5.5          13.0       11.50             10.0  ...   \n",
       "2               11.0          18.5       16.75             14.0  ...   \n",
       "3               10.0          14.0       15.50             11.5  ...   \n",
       "4               15.2          11.5        8.00             13.0  ...   \n",
       "\n",
       "   mabani_fanavari  memari_com mabani_e_didit  o_va_m_modiriat    os  \\\n",
       "0            14.75       15.75           14.0             16.5  12.0   \n",
       "1            18.80        16.5           14.0             16.0  14.0   \n",
       "2            18.10       17.25           18.5             16.5  16.5   \n",
       "3            13.20       15.25           14.0             13.5  12.0   \n",
       "4            18.85          13           12.0             15.5  10.5   \n",
       "\n",
       "   tarahi_alg  nazariye  os_tarahi_DB  eghtesad_mohandesi  moadel  \n",
       "0        16.2     10.75          18.0                17.8   14.42  \n",
       "1        15.5     11.50          15.0                14.6   14.27  \n",
       "2        18.2     19.00          14.0                16.1   16.49  \n",
       "3        14.0     12.50          12.5                13.2   13.94  \n",
       "4        12.0     10.00          16.5                10.0   12.80  \n",
       "\n",
       "[5 rows x 21 columns]"
      ]
     },
     "execution_count": 11,
     "metadata": {},
     "output_type": "execute_result"
    }
   ],
   "source": [
    "df.head()"
   ]
  },
  {
   "cell_type": "code",
   "execution_count": 12,
   "metadata": {},
   "outputs": [
    {
     "name": "stdout",
     "output_type": "stream",
     "text": [
      "<class 'pandas.core.frame.DataFrame'>\n",
      "RangeIndex: 237 entries, 0 to 236\n",
      "Data columns (total 21 columns):\n",
      "riazi_1               237 non-null float64\n",
      "fizik_1               237 non-null float64\n",
      "mabani_kamputer       237 non-null float64\n",
      "riazi_2               237 non-null float64\n",
      "fizik_2               237 non-null float64\n",
      "ri_gosaste            237 non-null float64\n",
      "barname_pishrafte     237 non-null float64\n",
      "moadelat_def          237 non-null float64\n",
      "amar_va_eh            237 non-null float64\n",
      "sakhteman_dadeh       237 non-null float64\n",
      "medar_mantaghi        237 non-null float64\n",
      "mabani_fanavari       237 non-null float64\n",
      "memari_com            237 non-null object\n",
      "mabani_e_didit        237 non-null float64\n",
      "o_va_m_modiriat       237 non-null float64\n",
      "os                    237 non-null float64\n",
      "tarahi_alg            237 non-null float64\n",
      "nazariye              237 non-null float64\n",
      "os_tarahi_DB          237 non-null float64\n",
      "eghtesad_mohandesi    237 non-null float64\n",
      "moadel                237 non-null float64\n",
      "dtypes: float64(20), object(1)\n",
      "memory usage: 39.0+ KB\n"
     ]
    }
   ],
   "source": [
    "df.info()"
   ]
  },
  {
   "cell_type": "code",
   "execution_count": 13,
   "metadata": {},
   "outputs": [
    {
     "data": {
      "text/plain": [
       "dtype('O')"
      ]
     },
     "execution_count": 13,
     "metadata": {},
     "output_type": "execute_result"
    }
   ],
   "source": [
    "df['memari_com'].dtype"
   ]
  },
  {
   "cell_type": "code",
   "execution_count": 14,
   "metadata": {},
   "outputs": [
    {
     "data": {
      "text/plain": [
       "0     15.75\n",
       "1      16.5\n",
       "2     17.25\n",
       "3     15.25\n",
       "4        13\n",
       "      ...  \n",
       "95    15.25\n",
       "96     15.5\n",
       "97    12.25\n",
       "98       16\n",
       "99       20\n",
       "Name: memari_com, Length: 100, dtype: object"
      ]
     },
     "execution_count": 14,
     "metadata": {},
     "output_type": "execute_result"
    }
   ],
   "source": [
    "df.memari_com.head(100)"
   ]
  },
  {
   "cell_type": "code",
   "execution_count": 15,
   "metadata": {},
   "outputs": [],
   "source": [
    "df = df.drop(['memari_com'], axis=1)"
   ]
  },
  {
   "cell_type": "code",
   "execution_count": 16,
   "metadata": {},
   "outputs": [
    {
     "data": {
      "text/plain": [
       "Index(['riazi_1', 'fizik_1', 'mabani_kamputer', 'riazi_2', 'fizik_2',\n",
       "       'ri_gosaste', 'barname_pishrafte', 'moadelat_def', 'amar_va_eh',\n",
       "       'sakhteman_dadeh', 'medar_mantaghi', 'mabani_fanavari',\n",
       "       'mabani_e_didit', 'o_va_m_modiriat', 'os', 'tarahi_alg', 'nazariye',\n",
       "       'os_tarahi_DB', 'eghtesad_mohandesi', 'moadel'],\n",
       "      dtype='object')"
      ]
     },
     "execution_count": 16,
     "metadata": {},
     "output_type": "execute_result"
    }
   ],
   "source": [
    "df.columns"
   ]
  },
  {
   "cell_type": "code",
   "execution_count": 17,
   "metadata": {},
   "outputs": [],
   "source": [
    "#show relation between features by corr function\n",
    "corr = df.corr()"
   ]
  },
  {
   "cell_type": "code",
   "execution_count": 18,
   "metadata": {},
   "outputs": [
    {
     "data": {
      "image/png": "[encoded data removed]",
      "text/plain": [
       "<Figure size 432x288 with 2 Axes>"
      ]
     },
     "metadata": {
      "needs_background": "light"
     },
     "output_type": "display_data"
    }
   ],
   "source": [
    "sns.heatmap(corr,annot=True, cmap=plt.cm.Reds)\n",
    "plt.show()"
   ]
  },
  {
   "cell_type": "code",
   "execution_count": 19,
   "metadata": {},
   "outputs": [],
   "source": [
    "#drop featuers have lower  correlation\n",
    "df = df.drop(['barname_pishrafte','sakhteman_dadeh','fizik_1','riazi_2','mabani_kamputer','fizik_2', 'ri_gosaste','moadelat_def','amar_va_eh', 'medar_mantaghi','mabani_fanavari','mabani_e_didit','o_va_m_modiriat','tarahi_alg','nazariye'],axis=1)\n"
   ]
  },
  {
   "cell_type": "code",
   "execution_count": 20,
   "metadata": {},
   "outputs": [
    {
     "data": {
      "text/html": [
       "<div>\n",
       "<style scoped>\n",
       "    .dataframe tbody tr th:only-of-type {\n",
       "        vertical-align: middle;\n",
       "    }\n",
       "\n",
       "    .dataframe tbody tr th {\n",
       "        vertical-align: top;\n",
       "    }\n",
       "\n",
       "    .dataframe thead th {\n",
       "        text-align: right;\n",
       "    }\n",
       "</style>\n",
       "<table border=\"1\" class=\"dataframe\">\n",
       "  <thead>\n",
       "    <tr style=\"text-align: right;\">\n",
       "      <th></th>\n",
       "      <th>riazi_1</th>\n",
       "      <th>os</th>\n",
       "      <th>os_tarahi_DB</th>\n",
       "      <th>eghtesad_mohandesi</th>\n",
       "      <th>moadel</th>\n",
       "    </tr>\n",
       "  </thead>\n",
       "  <tbody>\n",
       "    <tr>\n",
       "      <td>0</td>\n",
       "      <td>13.25</td>\n",
       "      <td>12.0</td>\n",
       "      <td>18.0</td>\n",
       "      <td>17.8</td>\n",
       "      <td>14.42</td>\n",
       "    </tr>\n",
       "    <tr>\n",
       "      <td>1</td>\n",
       "      <td>10.00</td>\n",
       "      <td>14.0</td>\n",
       "      <td>15.0</td>\n",
       "      <td>14.6</td>\n",
       "      <td>14.27</td>\n",
       "    </tr>\n",
       "    <tr>\n",
       "      <td>2</td>\n",
       "      <td>14.25</td>\n",
       "      <td>16.5</td>\n",
       "      <td>14.0</td>\n",
       "      <td>16.1</td>\n",
       "      <td>16.49</td>\n",
       "    </tr>\n",
       "    <tr>\n",
       "      <td>3</td>\n",
       "      <td>13.00</td>\n",
       "      <td>12.0</td>\n",
       "      <td>12.5</td>\n",
       "      <td>13.2</td>\n",
       "      <td>13.94</td>\n",
       "    </tr>\n",
       "    <tr>\n",
       "      <td>4</td>\n",
       "      <td>11.00</td>\n",
       "      <td>10.5</td>\n",
       "      <td>16.5</td>\n",
       "      <td>10.0</td>\n",
       "      <td>12.80</td>\n",
       "    </tr>\n",
       "  </tbody>\n",
       "</table>\n",
       "</div>"
      ],
      "text/plain": [
       "   riazi_1    os  os_tarahi_DB  eghtesad_mohandesi  moadel\n",
       "0    13.25  12.0          18.0                17.8   14.42\n",
       "1    10.00  14.0          15.0                14.6   14.27\n",
       "2    14.25  16.5          14.0                16.1   16.49\n",
       "3    13.00  12.0          12.5                13.2   13.94\n",
       "4    11.00  10.5          16.5                10.0   12.80"
      ]
     },
     "execution_count": 20,
     "metadata": {},
     "output_type": "execute_result"
    }
   ],
   "source": [
    "df.head()"
   ]
  },
  {
   "cell_type": "code",
   "execution_count": 21,
   "metadata": {},
   "outputs": [
    {
     "data": {
      "image/png": "[encoded data removed]",
      "text/plain": [
       "<Figure size 432x288 with 2 Axes>"
      ]
     },
     "metadata": {
      "needs_background": "light"
     },
     "output_type": "display_data"
    }
   ],
   "source": [
    "corr = df.corr()\n",
    "sns.heatmap(corr,annot=True, cmap=plt.cm.Reds)\n",
    "plt.show()"
   ]
  },
  {
   "cell_type": "code",
   "execution_count": 22,
   "metadata": {},
   "outputs": [
    {
     "data": {
      "text/plain": [
       "<matplotlib.axes._subplots.AxesSubplot at 0x1b50c46e1c8>"
      ]
     },
     "execution_count": 22,
     "metadata": {},
     "output_type": "execute_result"
    },
    {
     "data": {
      "image/png": "[encoded data removed]",
      "text/plain": [
       "<Figure size 432x288 with 1 Axes>"
      ]
     },
     "metadata": {
      "needs_background": "light"
     },
     "output_type": "display_data"
    }
   ],
   "source": [
    "#find outlier by boxplot function\n",
    "sns.boxplot(x=df['moadel'])"
   ]
  },
  {
   "cell_type": "code",
   "execution_count": 23,
   "metadata": {},
   "outputs": [
    {
     "data": {
      "text/plain": [
       "<matplotlib.axes._subplots.AxesSubplot at 0x1b50c54af08>"
      ]
     },
     "execution_count": 23,
     "metadata": {},
     "output_type": "execute_result"
    },
    {
     "data": {
      "image/png": "[encoded data removed]",
      "text/plain": [
       "<Figure size 432x288 with 1 Axes>"
      ]
     },
     "metadata": {
      "needs_background": "light"
     },
     "output_type": "display_data"
    }
   ],
   "source": [
    "df.boxplot(['riazi_1','os','os_tarahi_DB','eghtesad_mohandesi'])"
   ]
  },
  {
   "cell_type": "code",
   "execution_count": 24,
   "metadata": {},
   "outputs": [],
   "source": [
    "#remove outlier \n",
    "for x in ['riazi_1','os','os_tarahi_DB','eghtesad_mohandesi']:\n",
    "    q75,q25 = np.percentile(df.loc[:,x],[75,25])\n",
    "    inter_qr = q75 -q25\n",
    "    \n",
    "    max = q75+(1.5 * inter_qr)\n",
    "    min = q25-(1.5 * inter_qr)\n",
    "    \n",
    "    df.loc[df[x] < min,x] = np.nan\n",
    "    df.loc[df[x] > max,x] = np.nan"
   ]
  },
  {
   "cell_type": "code",
   "execution_count": 25,
   "metadata": {},
   "outputs": [
    {
     "data": {
      "text/plain": [
       "<matplotlib.axes._subplots.AxesSubplot at 0x1b50c61cb08>"
      ]
     },
     "execution_count": 25,
     "metadata": {},
     "output_type": "execute_result"
    },
    {
     "data": {
      "image/png": "[encoded data removed]",
      "text/plain": [
       "<Figure size 432x288 with 1 Axes>"
      ]
     },
     "metadata": {
      "needs_background": "light"
     },
     "output_type": "display_data"
    }
   ],
   "source": [
    "df.boxplot(['riazi_1','os','os_tarahi_DB','eghtesad_mohandesi'])"
   ]
  },
  {
   "cell_type": "code",
   "execution_count": 26,
   "metadata": {},
   "outputs": [
    {
     "data": {
      "text/plain": [
       "riazi_1               3\n",
       "os                    0\n",
       "os_tarahi_DB          0\n",
       "eghtesad_mohandesi    0\n",
       "moadel                0\n",
       "dtype: int64"
      ]
     },
     "execution_count": 26,
     "metadata": {},
     "output_type": "execute_result"
    }
   ],
   "source": [
    "df.isnull().sum()"
   ]
  },
  {
   "cell_type": "code",
   "execution_count": 27,
   "metadata": {},
   "outputs": [],
   "source": [
    "df= df.dropna(axis=0)"
   ]
  },
  {
   "cell_type": "code",
   "execution_count": 28,
   "metadata": {},
   "outputs": [
    {
     "data": {
      "text/plain": [
       "riazi_1               0\n",
       "os                    0\n",
       "os_tarahi_DB          0\n",
       "eghtesad_mohandesi    0\n",
       "moadel                0\n",
       "dtype: int64"
      ]
     },
     "execution_count": 28,
     "metadata": {},
     "output_type": "execute_result"
    }
   ],
   "source": [
    "df.isnull().sum()"
   ]
  },
  {
   "cell_type": "code",
   "execution_count": 29,
   "metadata": {},
   "outputs": [
    {
     "data": {
      "image/png": "[encoded data removed]",
      "text/plain": [
       "<Figure size 432x288 with 1 Axes>"
      ]
     },
     "metadata": {
      "needs_background": "light"
     },
     "output_type": "display_data"
    }
   ],
   "source": [
    "#show normal distrbution of data \n",
    "pd.DataFrame(df.moadel).plot(kind=\"density\");"
   ]
  },
  {
   "cell_type": "code",
   "execution_count": null,
   "metadata": {},
   "outputs": [],
   "source": []
  },
  {
   "cell_type": "markdown",
   "metadata": {},
   "source": [
    "create new featuer name score range(0,5)\n",
    "0=fail, 1=pass,2=normal,3=good,4=verygood,5=exclent"
   ]
  },
  {
   "cell_type": "code",
   "execution_count": 30,
   "metadata": {},
   "outputs": [],
   "source": [
    "\n",
    "def level(x):\n",
    "    \n",
    "        if x < 10:\n",
    "            return 0\n",
    "        if x >= 10 and x <= 12:\n",
    "            return 1\n",
    "        if x > 12 and x <= 14:\n",
    "            return 2\n",
    "        if x > 14 and x <= 16:\n",
    "            return 3\n",
    "        if x > 16 and x <= 18:\n",
    "            return 4\n",
    "        else:\n",
    "            return 5\n",
    "df['score'] = df['moadel'].apply(level)\n"
   ]
  },
  {
   "cell_type": "code",
   "execution_count": 31,
   "metadata": {},
   "outputs": [
    {
     "data": {
      "text/html": [
       "<div>\n",
       "<style scoped>\n",
       "    .dataframe tbody tr th:only-of-type {\n",
       "        vertical-align: middle;\n",
       "    }\n",
       "\n",
       "    .dataframe tbody tr th {\n",
       "        vertical-align: top;\n",
       "    }\n",
       "\n",
       "    .dataframe thead th {\n",
       "        text-align: right;\n",
       "    }\n",
       "</style>\n",
       "<table border=\"1\" class=\"dataframe\">\n",
       "  <thead>\n",
       "    <tr style=\"text-align: right;\">\n",
       "      <th></th>\n",
       "      <th>riazi_1</th>\n",
       "      <th>os</th>\n",
       "      <th>os_tarahi_DB</th>\n",
       "      <th>eghtesad_mohandesi</th>\n",
       "      <th>moadel</th>\n",
       "      <th>score</th>\n",
       "    </tr>\n",
       "  </thead>\n",
       "  <tbody>\n",
       "    <tr>\n",
       "      <td>0</td>\n",
       "      <td>13.25</td>\n",
       "      <td>12.00</td>\n",
       "      <td>18.00</td>\n",
       "      <td>17.80</td>\n",
       "      <td>14.42</td>\n",
       "      <td>3</td>\n",
       "    </tr>\n",
       "    <tr>\n",
       "      <td>1</td>\n",
       "      <td>10.00</td>\n",
       "      <td>14.00</td>\n",
       "      <td>15.00</td>\n",
       "      <td>14.60</td>\n",
       "      <td>14.27</td>\n",
       "      <td>3</td>\n",
       "    </tr>\n",
       "    <tr>\n",
       "      <td>2</td>\n",
       "      <td>14.25</td>\n",
       "      <td>16.50</td>\n",
       "      <td>14.00</td>\n",
       "      <td>16.10</td>\n",
       "      <td>16.49</td>\n",
       "      <td>4</td>\n",
       "    </tr>\n",
       "    <tr>\n",
       "      <td>3</td>\n",
       "      <td>13.00</td>\n",
       "      <td>12.00</td>\n",
       "      <td>12.50</td>\n",
       "      <td>13.20</td>\n",
       "      <td>13.94</td>\n",
       "      <td>2</td>\n",
       "    </tr>\n",
       "    <tr>\n",
       "      <td>4</td>\n",
       "      <td>11.00</td>\n",
       "      <td>10.50</td>\n",
       "      <td>16.50</td>\n",
       "      <td>10.00</td>\n",
       "      <td>12.80</td>\n",
       "      <td>2</td>\n",
       "    </tr>\n",
       "    <tr>\n",
       "      <td>...</td>\n",
       "      <td>...</td>\n",
       "      <td>...</td>\n",
       "      <td>...</td>\n",
       "      <td>...</td>\n",
       "      <td>...</td>\n",
       "      <td>...</td>\n",
       "    </tr>\n",
       "    <tr>\n",
       "      <td>232</td>\n",
       "      <td>16.50</td>\n",
       "      <td>12.50</td>\n",
       "      <td>15.00</td>\n",
       "      <td>18.50</td>\n",
       "      <td>15.54</td>\n",
       "      <td>3</td>\n",
       "    </tr>\n",
       "    <tr>\n",
       "      <td>233</td>\n",
       "      <td>16.00</td>\n",
       "      <td>10.50</td>\n",
       "      <td>12.25</td>\n",
       "      <td>14.75</td>\n",
       "      <td>15.07</td>\n",
       "      <td>3</td>\n",
       "    </tr>\n",
       "    <tr>\n",
       "      <td>234</td>\n",
       "      <td>14.00</td>\n",
       "      <td>17.50</td>\n",
       "      <td>18.50</td>\n",
       "      <td>17.00</td>\n",
       "      <td>16.39</td>\n",
       "      <td>4</td>\n",
       "    </tr>\n",
       "    <tr>\n",
       "      <td>235</td>\n",
       "      <td>13.00</td>\n",
       "      <td>13.00</td>\n",
       "      <td>16.25</td>\n",
       "      <td>17.75</td>\n",
       "      <td>15.42</td>\n",
       "      <td>3</td>\n",
       "    </tr>\n",
       "    <tr>\n",
       "      <td>236</td>\n",
       "      <td>13.50</td>\n",
       "      <td>13.25</td>\n",
       "      <td>12.75</td>\n",
       "      <td>14.50</td>\n",
       "      <td>15.21</td>\n",
       "      <td>3</td>\n",
       "    </tr>\n",
       "  </tbody>\n",
       "</table>\n",
       "<p>234 rows × 6 columns</p>\n",
       "</div>"
      ],
      "text/plain": [
       "     riazi_1     os  os_tarahi_DB  eghtesad_mohandesi  moadel  score\n",
       "0      13.25  12.00         18.00               17.80   14.42      3\n",
       "1      10.00  14.00         15.00               14.60   14.27      3\n",
       "2      14.25  16.50         14.00               16.10   16.49      4\n",
       "3      13.00  12.00         12.50               13.20   13.94      2\n",
       "4      11.00  10.50         16.50               10.00   12.80      2\n",
       "..       ...    ...           ...                 ...     ...    ...\n",
       "232    16.50  12.50         15.00               18.50   15.54      3\n",
       "233    16.00  10.50         12.25               14.75   15.07      3\n",
       "234    14.00  17.50         18.50               17.00   16.39      4\n",
       "235    13.00  13.00         16.25               17.75   15.42      3\n",
       "236    13.50  13.25         12.75               14.50   15.21      3\n",
       "\n",
       "[234 rows x 6 columns]"
      ]
     },
     "execution_count": 31,
     "metadata": {},
     "output_type": "execute_result"
    }
   ],
   "source": [
    "df"
   ]
  },
  {
   "cell_type": "code",
   "execution_count": 32,
   "metadata": {},
   "outputs": [],
   "source": [
    "df=df.drop(['moadel'],axis=1)"
   ]
  },
  {
   "cell_type": "code",
   "execution_count": 33,
   "metadata": {},
   "outputs": [
    {
     "data": {
      "text/html": [
       "<div>\n",
       "<style scoped>\n",
       "    .dataframe tbody tr th:only-of-type {\n",
       "        vertical-align: middle;\n",
       "    }\n",
       "\n",
       "    .dataframe tbody tr th {\n",
       "        vertical-align: top;\n",
       "    }\n",
       "\n",
       "    .dataframe thead th {\n",
       "        text-align: right;\n",
       "    }\n",
       "</style>\n",
       "<table border=\"1\" class=\"dataframe\">\n",
       "  <thead>\n",
       "    <tr style=\"text-align: right;\">\n",
       "      <th></th>\n",
       "      <th>riazi_1</th>\n",
       "      <th>os</th>\n",
       "      <th>os_tarahi_DB</th>\n",
       "      <th>eghtesad_mohandesi</th>\n",
       "      <th>score</th>\n",
       "    </tr>\n",
       "  </thead>\n",
       "  <tbody>\n",
       "    <tr>\n",
       "      <td>0</td>\n",
       "      <td>13.25</td>\n",
       "      <td>12.00</td>\n",
       "      <td>18.00</td>\n",
       "      <td>17.80</td>\n",
       "      <td>3</td>\n",
       "    </tr>\n",
       "    <tr>\n",
       "      <td>1</td>\n",
       "      <td>10.00</td>\n",
       "      <td>14.00</td>\n",
       "      <td>15.00</td>\n",
       "      <td>14.60</td>\n",
       "      <td>3</td>\n",
       "    </tr>\n",
       "    <tr>\n",
       "      <td>2</td>\n",
       "      <td>14.25</td>\n",
       "      <td>16.50</td>\n",
       "      <td>14.00</td>\n",
       "      <td>16.10</td>\n",
       "      <td>4</td>\n",
       "    </tr>\n",
       "    <tr>\n",
       "      <td>3</td>\n",
       "      <td>13.00</td>\n",
       "      <td>12.00</td>\n",
       "      <td>12.50</td>\n",
       "      <td>13.20</td>\n",
       "      <td>2</td>\n",
       "    </tr>\n",
       "    <tr>\n",
       "      <td>4</td>\n",
       "      <td>11.00</td>\n",
       "      <td>10.50</td>\n",
       "      <td>16.50</td>\n",
       "      <td>10.00</td>\n",
       "      <td>2</td>\n",
       "    </tr>\n",
       "    <tr>\n",
       "      <td>...</td>\n",
       "      <td>...</td>\n",
       "      <td>...</td>\n",
       "      <td>...</td>\n",
       "      <td>...</td>\n",
       "      <td>...</td>\n",
       "    </tr>\n",
       "    <tr>\n",
       "      <td>232</td>\n",
       "      <td>16.50</td>\n",
       "      <td>12.50</td>\n",
       "      <td>15.00</td>\n",
       "      <td>18.50</td>\n",
       "      <td>3</td>\n",
       "    </tr>\n",
       "    <tr>\n",
       "      <td>233</td>\n",
       "      <td>16.00</td>\n",
       "      <td>10.50</td>\n",
       "      <td>12.25</td>\n",
       "      <td>14.75</td>\n",
       "      <td>3</td>\n",
       "    </tr>\n",
       "    <tr>\n",
       "      <td>234</td>\n",
       "      <td>14.00</td>\n",
       "      <td>17.50</td>\n",
       "      <td>18.50</td>\n",
       "      <td>17.00</td>\n",
       "      <td>4</td>\n",
       "    </tr>\n",
       "    <tr>\n",
       "      <td>235</td>\n",
       "      <td>13.00</td>\n",
       "      <td>13.00</td>\n",
       "      <td>16.25</td>\n",
       "      <td>17.75</td>\n",
       "      <td>3</td>\n",
       "    </tr>\n",
       "    <tr>\n",
       "      <td>236</td>\n",
       "      <td>13.50</td>\n",
       "      <td>13.25</td>\n",
       "      <td>12.75</td>\n",
       "      <td>14.50</td>\n",
       "      <td>3</td>\n",
       "    </tr>\n",
       "  </tbody>\n",
       "</table>\n",
       "<p>234 rows × 5 columns</p>\n",
       "</div>"
      ],
      "text/plain": [
       "     riazi_1     os  os_tarahi_DB  eghtesad_mohandesi  score\n",
       "0      13.25  12.00         18.00               17.80      3\n",
       "1      10.00  14.00         15.00               14.60      3\n",
       "2      14.25  16.50         14.00               16.10      4\n",
       "3      13.00  12.00         12.50               13.20      2\n",
       "4      11.00  10.50         16.50               10.00      2\n",
       "..       ...    ...           ...                 ...    ...\n",
       "232    16.50  12.50         15.00               18.50      3\n",
       "233    16.00  10.50         12.25               14.75      3\n",
       "234    14.00  17.50         18.50               17.00      4\n",
       "235    13.00  13.00         16.25               17.75      3\n",
       "236    13.50  13.25         12.75               14.50      3\n",
       "\n",
       "[234 rows x 5 columns]"
      ]
     },
     "execution_count": 33,
     "metadata": {},
     "output_type": "execute_result"
    }
   ],
   "source": [
    "df\n"
   ]
  },
  {
   "cell_type": "markdown",
   "metadata": {},
   "source": [
    " show shape of all featuers we choose to predict "
   ]
  },
  {
   "cell_type": "code",
   "execution_count": 34,
   "metadata": {},
   "outputs": [
    {
     "name": "stderr",
     "output_type": "stream",
     "text": [
      "C:\\Python\\anaconda\\lib\\site-packages\\seaborn\\axisgrid.py:2076: UserWarning: The `size` parameter has been renamed to `height`; please update your code.\n",
      "  warnings.warn(msg, UserWarning)\n"
     ]
    },
    {
     "data": {
      "text/plain": [
       "<seaborn.axisgrid.PairGrid at 0x1b50c75d448>"
      ]
     },
     "execution_count": 34,
     "metadata": {},
     "output_type": "execute_result"
    },
    {
     "data": {
      "image/png": "[encoded data removed]",
      "text/plain": [
       "<Figure size 1411.2x504 with 4 Axes>"
      ]
     },
     "metadata": {
      "needs_background": "light"
     },
     "output_type": "display_data"
    }
   ],
   "source": [
    "sns.pairplot(df,x_vars=['riazi_1','os','os_tarahi_DB','eghtesad_mohandesi'],y_vars='score',size=7,aspect=0.7)"
   ]
  },
  {
   "cell_type": "code",
   "execution_count": 35,
   "metadata": {},
   "outputs": [],
   "source": [
    "x = df.drop(['score'],axis=1)\n",
    "y = df.drop(['riazi_1','os','os_tarahi_DB','eghtesad_mohandesi'],axis=1)"
   ]
  },
  {
   "cell_type": "code",
   "execution_count": 46,
   "metadata": {},
   "outputs": [],
   "source": [
    "#Split dataset into random train and test subsets.\n",
    "from sklearn.model_selection import train_test_split\n",
    "x_train,x_test,y_train,y_test = train_test_split(x,y,test_size=0.2, random_state=50)\n"
   ]
  },
  {
   "cell_type": "code",
   "execution_count": 47,
   "metadata": {},
   "outputs": [
    {
     "name": "stdout",
     "output_type": "stream",
     "text": [
      "(187, 4) (47, 4) (187, 1) (47, 1)\n"
     ]
    }
   ],
   "source": [
    "print(x_train.shape,x_test.shape,y_train.shape,y_test.shape)"
   ]
  },
  {
   "cell_type": "code",
   "execution_count": 62,
   "metadata": {},
   "outputs": [],
   "source": [
    "#import logistic regression model\n",
    "from sklearn.linear_model import LogisticRegression\n",
    "\n"
   ]
  },
  {
   "cell_type": "code",
   "execution_count": 63,
   "metadata": {},
   "outputs": [
    {
     "name": "stderr",
     "output_type": "stream",
     "text": [
      "C:\\Python\\anaconda\\lib\\site-packages\\sklearn\\linear_model\\logistic.py:432: FutureWarning: Default solver will be changed to 'lbfgs' in 0.22. Specify a solver to silence this warning.\n",
      "  FutureWarning)\n",
      "C:\\Python\\anaconda\\lib\\site-packages\\sklearn\\utils\\validation.py:724: DataConversionWarning: A column-vector y was passed when a 1d array was expected. Please change the shape of y to (n_samples, ), for example using ravel().\n",
      "  y = column_or_1d(y, warn=True)\n",
      "C:\\Python\\anaconda\\lib\\site-packages\\sklearn\\linear_model\\logistic.py:469: FutureWarning: Default multi_class will be changed to 'auto' in 0.22. Specify the multi_class option to silence this warning.\n",
      "  \"this warning.\", FutureWarning)\n"
     ]
    },
    {
     "data": {
      "text/plain": [
       "LogisticRegression(C=1.0, class_weight=None, dual=False, fit_intercept=True,\n",
       "                   intercept_scaling=1, l1_ratio=None, max_iter=100,\n",
       "                   multi_class='warn', n_jobs=None, penalty='l2',\n",
       "                   random_state=None, solver='warn', tol=0.0001, verbose=0,\n",
       "                   warm_start=False)"
      ]
     },
     "execution_count": 63,
     "metadata": {},
     "output_type": "execute_result"
    }
   ],
   "source": [
    "\n",
    "#crate an object in the logistic regression \n",
    "model2 = LogisticRegression()\n",
    "\n",
    "\n",
    "model2.fit(x_train,y_train)"
   ]
  },
  {
   "cell_type": "code",
   "execution_count": 60,
   "metadata": {},
   "outputs": [
    {
     "data": {
      "text/plain": [
       "array([3, 2, 3, 3, 3, 3, 2, 3, 3, 3, 3, 3, 3, 3, 2, 2, 3, 2, 3, 3, 2, 3,\n",
       "       3, 3, 3, 3, 2, 3, 2, 3, 3, 3, 3, 3, 2, 2, 2, 3, 2, 3, 2, 3, 2, 3,\n",
       "       3, 2, 3], dtype=int64)"
      ]
     },
     "execution_count": 60,
     "metadata": {},
     "output_type": "execute_result"
    }
   ],
   "source": [
    "\n",
    "model2.predict(x_test)"
   ]
  },
  {
   "cell_type": "code",
   "execution_count": 61,
   "metadata": {},
   "outputs": [
    {
     "data": {
      "text/plain": [
       "0.7021276595744681"
      ]
     },
     "execution_count": 61,
     "metadata": {},
     "output_type": "execute_result"
    }
   ],
   "source": [
    "model2.score(x_test,y_test)\n"
   ]
  },
  {
   "cell_type": "code",
   "execution_count": null,
   "metadata": {},
   "outputs": [],
   "source": []
  }
 ],
 "metadata": {
  "kernelspec": {
   "display_name": "Python 3",
   "language": "python",
   "name": "python3"
  },
  "language_info": {
   "codemirror_mode": {
    "name": "ipython",
    "version": 3
   },
   "file_extension": ".py",
   "mimetype": "text/x-python",
   "name": "python",
   "nbconvert_exporter": "python",
   "pygments_lexer": "ipython3",
   "version": "3.7.4"
  }
 },
 "nbformat": 4,
 "nbformat_minor": 2
}
